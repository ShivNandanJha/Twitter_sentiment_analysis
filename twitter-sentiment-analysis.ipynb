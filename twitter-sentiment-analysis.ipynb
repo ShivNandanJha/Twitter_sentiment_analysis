{
 "cells": [
  {
   "cell_type": "markdown",
   "id": "f22b5e1f",
   "metadata": {
    "papermill": {
     "duration": 0.007961,
     "end_time": "2024-05-16T16:44:05.893195",
     "exception": false,
     "start_time": "2024-05-16T16:44:05.885234",
     "status": "completed"
    },
    "tags": []
   },
   "source": [
    "# <div style=\"color:#ffffff; border-radius:60px; border:#000000 solid; padding: 15px; background-color: #3c6478; font-size:100%; text-align:center; font-family:monospace;\">Loading the data set</div>"
   ]
  },
  {
   "cell_type": "code",
   "execution_count": 1,
   "id": "8b579814",
   "metadata": {
    "execution": {
     "iopub.execute_input": "2024-05-16T16:44:05.910430Z",
     "iopub.status.busy": "2024-05-16T16:44:05.909957Z",
     "iopub.status.idle": "2024-05-16T16:44:06.925904Z",
     "shell.execute_reply": "2024-05-16T16:44:06.924207Z"
    },
    "papermill": {
     "duration": 1.029611,
     "end_time": "2024-05-16T16:44:06.930514",
     "exception": false,
     "start_time": "2024-05-16T16:44:05.900903",
     "status": "completed"
    },
    "tags": []
   },
   "outputs": [],
   "source": [
    "import pandas as pd"
   ]
  },
  {
   "cell_type": "code",
   "execution_count": 2,
   "id": "2bcb2130",
   "metadata": {
    "execution": {
     "iopub.execute_input": "2024-05-16T16:44:06.954130Z",
     "iopub.status.busy": "2024-05-16T16:44:06.953420Z",
     "iopub.status.idle": "2024-05-16T16:44:07.472713Z",
     "shell.execute_reply": "2024-05-16T16:44:07.471309Z"
    },
    "papermill": {
     "duration": 0.533409,
     "end_time": "2024-05-16T16:44:07.476026",
     "exception": false,
     "start_time": "2024-05-16T16:44:06.942617",
     "status": "completed"
    },
    "tags": []
   },
   "outputs": [],
   "source": [
    "train = pd.read_csv(\"./input/twitter_training.csv\")\n",
    "val = pd.read_csv(\"./input/twitter_validation.csv\")"
   ]
  },
  {
   "cell_type": "code",
   "execution_count": 3,
   "id": "72ed583a",
   "metadata": {
    "execution": {
     "iopub.execute_input": "2024-05-16T16:44:07.497013Z",
     "iopub.status.busy": "2024-05-16T16:44:07.495633Z",
     "iopub.status.idle": "2024-05-16T16:44:07.512721Z",
     "shell.execute_reply": "2024-05-16T16:44:07.511265Z"
    },
    "papermill": {
     "duration": 0.032085,
     "end_time": "2024-05-16T16:44:07.516419",
     "exception": false,
     "start_time": "2024-05-16T16:44:07.484334",
     "status": "completed"
    },
    "tags": []
   },
   "outputs": [],
   "source": [
    "train = train.iloc[:, 2:]\n",
    "train.columns = ['label', 'data']\n",
    "val = val.iloc[:, 2:]\n",
    "val.columns = ['label', 'data']"
   ]
  },
  {
   "cell_type": "code",
   "execution_count": 4,
   "id": "a66c03d7",
   "metadata": {
    "execution": {
     "iopub.execute_input": "2024-05-16T16:44:07.535665Z",
     "iopub.status.busy": "2024-05-16T16:44:07.534364Z",
     "iopub.status.idle": "2024-05-16T16:44:07.559972Z",
     "shell.execute_reply": "2024-05-16T16:44:07.558718Z"
    },
    "papermill": {
     "duration": 0.038149,
     "end_time": "2024-05-16T16:44:07.562740",
     "exception": false,
     "start_time": "2024-05-16T16:44:07.524591",
     "status": "completed"
    },
    "tags": []
   },
   "outputs": [
    {
     "data": {
      "text/html": [
       "<div>\n",
       "<style scoped>\n",
       "    .dataframe tbody tr th:only-of-type {\n",
       "        vertical-align: middle;\n",
       "    }\n",
       "\n",
       "    .dataframe tbody tr th {\n",
       "        vertical-align: top;\n",
       "    }\n",
       "\n",
       "    .dataframe thead th {\n",
       "        text-align: right;\n",
       "    }\n",
       "</style>\n",
       "<table border=\"1\" class=\"dataframe\">\n",
       "  <thead>\n",
       "    <tr style=\"text-align: right;\">\n",
       "      <th></th>\n",
       "      <th>label</th>\n",
       "      <th>data</th>\n",
       "    </tr>\n",
       "  </thead>\n",
       "  <tbody>\n",
       "    <tr>\n",
       "      <th>0</th>\n",
       "      <td>Positive</td>\n",
       "      <td>I am coming to the borders and I will kill you...</td>\n",
       "    </tr>\n",
       "    <tr>\n",
       "      <th>1</th>\n",
       "      <td>Positive</td>\n",
       "      <td>im getting on borderlands and i will kill you ...</td>\n",
       "    </tr>\n",
       "    <tr>\n",
       "      <th>2</th>\n",
       "      <td>Positive</td>\n",
       "      <td>im coming on borderlands and i will murder you...</td>\n",
       "    </tr>\n",
       "    <tr>\n",
       "      <th>3</th>\n",
       "      <td>Positive</td>\n",
       "      <td>im getting on borderlands 2 and i will murder ...</td>\n",
       "    </tr>\n",
       "    <tr>\n",
       "      <th>4</th>\n",
       "      <td>Positive</td>\n",
       "      <td>im getting into borderlands and i can murder y...</td>\n",
       "    </tr>\n",
       "  </tbody>\n",
       "</table>\n",
       "</div>"
      ],
      "text/plain": [
       "      label                                               data\n",
       "0  Positive  I am coming to the borders and I will kill you...\n",
       "1  Positive  im getting on borderlands and i will kill you ...\n",
       "2  Positive  im coming on borderlands and i will murder you...\n",
       "3  Positive  im getting on borderlands 2 and i will murder ...\n",
       "4  Positive  im getting into borderlands and i can murder y..."
      ]
     },
     "execution_count": 4,
     "metadata": {},
     "output_type": "execute_result"
    }
   ],
   "source": [
    "train.head()"
   ]
  },
  {
   "cell_type": "code",
   "execution_count": 5,
   "id": "d80355fd",
   "metadata": {
    "execution": {
     "iopub.execute_input": "2024-05-16T16:44:07.582089Z",
     "iopub.status.busy": "2024-05-16T16:44:07.581604Z",
     "iopub.status.idle": "2024-05-16T16:44:07.601313Z",
     "shell.execute_reply": "2024-05-16T16:44:07.599660Z"
    },
    "papermill": {
     "duration": 0.032843,
     "end_time": "2024-05-16T16:44:07.604386",
     "exception": false,
     "start_time": "2024-05-16T16:44:07.571543",
     "status": "completed"
    },
    "tags": []
   },
   "outputs": [
    {
     "data": {
      "text/plain": [
       "array(['Positive', 'Neutral', 'Negative', 'Irrelevant'], dtype=object)"
      ]
     },
     "execution_count": 5,
     "metadata": {},
     "output_type": "execute_result"
    }
   ],
   "source": [
    "train.label.unique()"
   ]
  },
  {
   "cell_type": "code",
   "execution_count": 6,
   "id": "f3fbc884",
   "metadata": {
    "execution": {
     "iopub.execute_input": "2024-05-16T16:44:07.623450Z",
     "iopub.status.busy": "2024-05-16T16:44:07.623012Z",
     "iopub.status.idle": "2024-05-16T16:44:07.654191Z",
     "shell.execute_reply": "2024-05-16T16:44:07.652771Z"
    },
    "papermill": {
     "duration": 0.044241,
     "end_time": "2024-05-16T16:44:07.657042",
     "exception": false,
     "start_time": "2024-05-16T16:44:07.612801",
     "status": "completed"
    },
    "tags": []
   },
   "outputs": [
    {
     "data": {
      "text/plain": [
       "label      0\n",
       "data     686\n",
       "dtype: int64"
      ]
     },
     "execution_count": 6,
     "metadata": {},
     "output_type": "execute_result"
    }
   ],
   "source": [
    "train.isna().sum()"
   ]
  },
  {
   "cell_type": "code",
   "execution_count": 7,
   "id": "4938681b",
   "metadata": {
    "execution": {
     "iopub.execute_input": "2024-05-16T16:44:07.676495Z",
     "iopub.status.busy": "2024-05-16T16:44:07.676019Z",
     "iopub.status.idle": "2024-05-16T16:44:07.711291Z",
     "shell.execute_reply": "2024-05-16T16:44:07.709629Z"
    },
    "papermill": {
     "duration": 0.049141,
     "end_time": "2024-05-16T16:44:07.714846",
     "exception": false,
     "start_time": "2024-05-16T16:44:07.665705",
     "status": "completed"
    },
    "tags": []
   },
   "outputs": [],
   "source": [
    "train = train.dropna()"
   ]
  },
  {
   "cell_type": "code",
   "execution_count": 8,
   "id": "1e28375f",
   "metadata": {
    "execution": {
     "iopub.execute_input": "2024-05-16T16:44:07.739883Z",
     "iopub.status.busy": "2024-05-16T16:44:07.738736Z",
     "iopub.status.idle": "2024-05-16T16:44:07.757080Z",
     "shell.execute_reply": "2024-05-16T16:44:07.755983Z"
    },
    "papermill": {
     "duration": 0.033147,
     "end_time": "2024-05-16T16:44:07.759728",
     "exception": false,
     "start_time": "2024-05-16T16:44:07.726581",
     "status": "completed"
    },
    "tags": []
   },
   "outputs": [
    {
     "data": {
      "text/plain": [
       "array(['Positive', 'Neutral', 'Negative', 'Irrelevant'], dtype=object)"
      ]
     },
     "execution_count": 8,
     "metadata": {},
     "output_type": "execute_result"
    }
   ],
   "source": [
    "train.label.unique()"
   ]
  },
  {
   "cell_type": "code",
   "execution_count": 9,
   "id": "f6e45d00",
   "metadata": {
    "execution": {
     "iopub.execute_input": "2024-05-16T16:44:07.784332Z",
     "iopub.status.busy": "2024-05-16T16:44:07.783564Z",
     "iopub.status.idle": "2024-05-16T16:44:08.083464Z",
     "shell.execute_reply": "2024-05-16T16:44:08.081821Z"
    },
    "papermill": {
     "duration": 0.317494,
     "end_time": "2024-05-16T16:44:08.086862",
     "exception": false,
     "start_time": "2024-05-16T16:44:07.769368",
     "status": "completed"
    },
    "tags": []
   },
   "outputs": [
    {
     "data": {
      "text/plain": [
       "<Axes: xlabel='label'>"
      ]
     },
     "execution_count": 9,
     "metadata": {},
     "output_type": "execute_result"
    },
    {
     "data": {
      "image/png": "[encoded data removed]",
      "text/plain": [
       "<Figure size 640x480 with 1 Axes>"
      ]
     },
     "metadata": {},
     "output_type": "display_data"
    }
   ],
   "source": [
    "train.label.value_counts().plot(kind='bar', grid=True)"
   ]
  },
  {
   "cell_type": "code",
   "execution_count": 10,
   "id": "4edfc94b",
   "metadata": {
    "execution": {
     "iopub.execute_input": "2024-05-16T16:44:08.108887Z",
     "iopub.status.busy": "2024-05-16T16:44:08.108455Z",
     "iopub.status.idle": "2024-05-16T16:44:08.379713Z",
     "shell.execute_reply": "2024-05-16T16:44:08.378403Z"
    },
    "papermill": {
     "duration": 0.285243,
     "end_time": "2024-05-16T16:44:08.382169",
     "exception": false,
     "start_time": "2024-05-16T16:44:08.096926",
     "status": "completed"
    },
    "tags": []
   },
   "outputs": [
    {
     "data": {
      "text/plain": [
       "<Axes: xlabel='label'>"
      ]
     },
     "execution_count": 10,
     "metadata": {},
     "output_type": "execute_result"
    },
    {
     "data": {
      "image/png": "[encoded data removed]",
      "text/plain": [
       "<Figure size 640x480 with 1 Axes>"
      ]
     },
     "metadata": {},
     "output_type": "display_data"
    }
   ],
   "source": [
    "val.label.value_counts().plot(kind='bar', grid=True)"
   ]
  },
  {
   "cell_type": "code",
   "execution_count": 11,
   "id": "c1a5051c",
   "metadata": {
    "execution": {
     "iopub.execute_input": "2024-05-16T16:44:08.403869Z",
     "iopub.status.busy": "2024-05-16T16:44:08.403413Z",
     "iopub.status.idle": "2024-05-16T16:44:08.410224Z",
     "shell.execute_reply": "2024-05-16T16:44:08.408761Z"
    },
    "papermill": {
     "duration": 0.021098,
     "end_time": "2024-05-16T16:44:08.413114",
     "exception": false,
     "start_time": "2024-05-16T16:44:08.392016",
     "status": "completed"
    },
    "tags": []
   },
   "outputs": [],
   "source": [
    "y = train[\"label\"]\n",
    "X = train[\"data\"]\n",
    "y_val = val[\"label\"]\n",
    "X_val = val[\"data\"]"
   ]
  },
  {
   "cell_type": "markdown",
   "id": "0c382ba5",
   "metadata": {
    "_cell_guid": "b1076dfc-b9ad-4769-8c92-a6c4dae69d19",
    "_uuid": "8f2839f25d086af736a60e9eeb907d3b93b6e0e5",
    "papermill": {
     "duration": 0.009731,
     "end_time": "2024-05-16T16:44:08.433266",
     "exception": false,
     "start_time": "2024-05-16T16:44:08.423535",
     "status": "completed"
    },
    "tags": []
   },
   "source": [
    "# <div style=\"color:#ffffff; border-radius:60px; border:#000000 solid; padding: 15px; background-color: #3c6478; font-size:100%; text-align:center; font-family:monospace;\">Data Pre processing</div>"
   ]
  },
  {
   "cell_type": "code",
   "execution_count": 12,
   "id": "6cc2e27e",
   "metadata": {
    "execution": {
     "iopub.execute_input": "2024-05-16T16:44:08.456760Z",
     "iopub.status.busy": "2024-05-16T16:44:08.456186Z",
     "iopub.status.idle": "2024-05-16T16:44:29.352363Z",
     "shell.execute_reply": "2024-05-16T16:44:29.350942Z"
    },
    "papermill": {
     "duration": 20.911969,
     "end_time": "2024-05-16T16:44:29.355512",
     "exception": false,
     "start_time": "2024-05-16T16:44:08.443543",
     "status": "completed"
    },
    "tags": []
   },
   "outputs": [],
   "source": [
    "from tensorflow.keras.preprocessing.text import Tokenizer\n",
    "from tensorflow.keras.preprocessing.sequence import pad_sequences\n",
    "from keras.utils import to_categorical\n",
    "from sklearn.preprocessing import LabelEncoder\n",
    "\n",
    "# X = [str(x) for x in X]\n",
    "\n",
    "# Tokenization\n",
    "tokenizer = Tokenizer(num_words=10000)\n",
    "tokenizer.fit_on_texts(X)\n",
    "tokenizer.fit_on_texts(X_val)\n",
    "\n",
    "X = tokenizer.texts_to_sequences(X)\n",
    "X_val = tokenizer.texts_to_sequences(X_val)\n",
    "\n",
    "\n",
    "# Padding\n",
    "max_len = 100  # Define the maximum sequence length\n",
    "X = pad_sequences(X, maxlen=max_len, padding=\"post\")\n",
    "X_val = pad_sequences(X_val, maxlen=max_len, padding=\"post\")\n",
    "\n",
    "# Convert string labels to numerical labels\n",
    "label_encoder = LabelEncoder()\n",
    "y = label_encoder.fit_transform(y)\n",
    "y = to_categorical(y, num_classes=4)\n",
    "y_val = label_encoder.transform(y_val)\n",
    "y_val = to_categorical(y_val, num_classes=4)"
   ]
  },
  {
   "cell_type": "code",
   "execution_count": 13,
   "id": "9e11f8f6",
   "metadata": {
    "execution": {
     "iopub.execute_input": "2024-05-16T16:44:29.377202Z",
     "iopub.status.busy": "2024-05-16T16:44:29.376443Z",
     "iopub.status.idle": "2024-05-16T16:44:29.384321Z",
     "shell.execute_reply": "2024-05-16T16:44:29.383114Z"
    },
    "papermill": {
     "duration": 0.021714,
     "end_time": "2024-05-16T16:44:29.386866",
     "exception": false,
     "start_time": "2024-05-16T16:44:29.365152",
     "status": "completed"
    },
    "tags": []
   },
   "outputs": [
    {
     "data": {
      "text/plain": [
       "(100,)"
      ]
     },
     "execution_count": 13,
     "metadata": {},
     "output_type": "execute_result"
    }
   ],
   "source": [
    "X[1].shape"
   ]
  },
  {
   "cell_type": "code",
   "execution_count": 14,
   "id": "8b043d76",
   "metadata": {
    "execution": {
     "iopub.execute_input": "2024-05-16T16:44:29.407635Z",
     "iopub.status.busy": "2024-05-16T16:44:29.407215Z",
     "iopub.status.idle": "2024-05-16T16:44:29.414042Z",
     "shell.execute_reply": "2024-05-16T16:44:29.412662Z"
    },
    "papermill": {
     "duration": 0.020183,
     "end_time": "2024-05-16T16:44:29.416633",
     "exception": false,
     "start_time": "2024-05-16T16:44:29.396450",
     "status": "completed"
    },
    "tags": []
   },
   "outputs": [
    {
     "name": "stdout",
     "output_type": "stream",
     "text": [
      "(73995, 100)\n",
      "(73995, 4)\n",
      "(999, 100)\n",
      "(999, 4)\n"
     ]
    }
   ],
   "source": [
    "print(X.shape)\n",
    "print(y.shape)\n",
    "print(X_val.shape)\n",
    "print(y_val.shape)"
   ]
  },
  {
   "cell_type": "markdown",
   "id": "8f6c8979",
   "metadata": {
    "papermill": {
     "duration": 0.009206,
     "end_time": "2024-05-16T16:44:29.435475",
     "exception": false,
     "start_time": "2024-05-16T16:44:29.426269",
     "status": "completed"
    },
    "tags": []
   },
   "source": [
    "# <div style=\"color:#ffffff; border-radius:60px; border:#000000 solid; padding: 15px; background-color: #3c6478; font-size:100%; text-align:center; font-family:monospace;\">Model Architecture</div>"
   ]
  },
  {
   "cell_type": "code",
   "execution_count": 24,
   "id": "72557c9a",
   "metadata": {
    "execution": {
     "iopub.execute_input": "2024-05-16T16:44:29.456952Z",
     "iopub.status.busy": "2024-05-16T16:44:29.456502Z",
     "iopub.status.idle": "2024-05-16T16:44:29.570707Z",
     "shell.execute_reply": "2024-05-16T16:44:29.569292Z"
    },
    "papermill": {
     "duration": 0.127761,
     "end_time": "2024-05-16T16:44:29.573127",
     "exception": false,
     "start_time": "2024-05-16T16:44:29.445366",
     "status": "completed"
    },
    "tags": []
   },
   "outputs": [
    {
     "data": {
      "text/html": [
       "<pre style=\"white-space:pre;overflow-x:auto;line-height:normal;font-family:Menlo,'DejaVu Sans Mono',consolas,'Courier New',monospace\"><span style=\"font-weight: bold\">Model: \"sequential_1\"</span>\n",
       "</pre>\n"
      ],
      "text/plain": [
       "\u001b[1mModel: \"sequential_1\"\u001b[0m\n"
      ]
     },
     "metadata": {},
     "output_type": "display_data"
    },
    {
     "data": {
      "text/html": [
       "<pre style=\"white-space:pre;overflow-x:auto;line-height:normal;font-family:Menlo,'DejaVu Sans Mono',consolas,'Courier New',monospace\">┏━━━━━━━━━━━━━━━━━━━━━━━━━━━━━━━━━┳━━━━━━━━━━━━━━━━━━━━━━━━┳━━━━━━━━━━━━━━━┓\n",
       "┃<span style=\"font-weight: bold\"> Layer (type)                    </span>┃<span style=\"font-weight: bold\"> Output Shape           </span>┃<span style=\"font-weight: bold\">       Param # </span>┃\n",
       "┡━━━━━━━━━━━━━━━━━━━━━━━━━━━━━━━━━╇━━━━━━━━━━━━━━━━━━━━━━━━╇━━━━━━━━━━━━━━━┩\n",
       "│ embedding_1 (<span style=\"color: #0087ff; text-decoration-color: #0087ff\">Embedding</span>)         │ ?                      │   <span style=\"color: #00af00; text-decoration-color: #00af00\">0</span> (unbuilt) │\n",
       "├─────────────────────────────────┼────────────────────────┼───────────────┤\n",
       "│ bidirectional (<span style=\"color: #0087ff; text-decoration-color: #0087ff\">Bidirectional</span>)   │ ?                      │   <span style=\"color: #00af00; text-decoration-color: #00af00\">0</span> (unbuilt) │\n",
       "├─────────────────────────────────┼────────────────────────┼───────────────┤\n",
       "│ bidirectional_1 (<span style=\"color: #0087ff; text-decoration-color: #0087ff\">Bidirectional</span>) │ ?                      │   <span style=\"color: #00af00; text-decoration-color: #00af00\">0</span> (unbuilt) │\n",
       "├─────────────────────────────────┼────────────────────────┼───────────────┤\n",
       "│ dropout (<span style=\"color: #0087ff; text-decoration-color: #0087ff\">Dropout</span>)               │ ?                      │             <span style=\"color: #00af00; text-decoration-color: #00af00\">0</span> │\n",
       "├─────────────────────────────────┼────────────────────────┼───────────────┤\n",
       "│ batch_normalization             │ ?                      │   <span style=\"color: #00af00; text-decoration-color: #00af00\">0</span> (unbuilt) │\n",
       "│ (<span style=\"color: #0087ff; text-decoration-color: #0087ff\">BatchNormalization</span>)            │                        │               │\n",
       "├─────────────────────────────────┼────────────────────────┼───────────────┤\n",
       "│ dense (<span style=\"color: #0087ff; text-decoration-color: #0087ff\">Dense</span>)                   │ ?                      │   <span style=\"color: #00af00; text-decoration-color: #00af00\">0</span> (unbuilt) │\n",
       "└─────────────────────────────────┴────────────────────────┴───────────────┘\n",
       "</pre>\n"
      ],
      "text/plain": [
       "┏━━━━━━━━━━━━━━━━━━━━━━━━━━━━━━━━━┳━━━━━━━━━━━━━━━━━━━━━━━━┳━━━━━━━━━━━━━━━┓\n",
       "┃\u001b[1m \u001b[0m\u001b[1mLayer (type)                   \u001b[0m\u001b[1m \u001b[0m┃\u001b[1m \u001b[0m\u001b[1mOutput Shape          \u001b[0m\u001b[1m \u001b[0m┃\u001b[1m \u001b[0m\u001b[1m      Param #\u001b[0m\u001b[1m \u001b[0m┃\n",
       "┡━━━━━━━━━━━━━━━━━━━━━━━━━━━━━━━━━╇━━━━━━━━━━━━━━━━━━━━━━━━╇━━━━━━━━━━━━━━━┩\n",
       "│ embedding_1 (\u001b[38;5;33mEmbedding\u001b[0m)         │ ?                      │   \u001b[38;5;34m0\u001b[0m (unbuilt) │\n",
       "├─────────────────────────────────┼────────────────────────┼───────────────┤\n",
       "│ bidirectional (\u001b[38;5;33mBidirectional\u001b[0m)   │ ?                      │   \u001b[38;5;34m0\u001b[0m (unbuilt) │\n",
       "├─────────────────────────────────┼────────────────────────┼───────────────┤\n",
       "│ bidirectional_1 (\u001b[38;5;33mBidirectional\u001b[0m) │ ?                      │   \u001b[38;5;34m0\u001b[0m (unbuilt) │\n",
       "├─────────────────────────────────┼────────────────────────┼───────────────┤\n",
       "│ dropout (\u001b[38;5;33mDropout\u001b[0m)               │ ?                      │             \u001b[38;5;34m0\u001b[0m │\n",
       "├─────────────────────────────────┼────────────────────────┼───────────────┤\n",
       "│ batch_normalization             │ ?                      │   \u001b[38;5;34m0\u001b[0m (unbuilt) │\n",
       "│ (\u001b[38;5;33mBatchNormalization\u001b[0m)            │                        │               │\n",
       "├─────────────────────────────────┼────────────────────────┼───────────────┤\n",
       "│ dense (\u001b[38;5;33mDense\u001b[0m)                   │ ?                      │   \u001b[38;5;34m0\u001b[0m (unbuilt) │\n",
       "└─────────────────────────────────┴────────────────────────┴───────────────┘\n"
      ]
     },
     "metadata": {},
     "output_type": "display_data"
    },
    {
     "data": {
      "text/html": [
       "<pre style=\"white-space:pre;overflow-x:auto;line-height:normal;font-family:Menlo,'DejaVu Sans Mono',consolas,'Courier New',monospace\"><span style=\"font-weight: bold\"> Total params: </span><span style=\"color: #00af00; text-decoration-color: #00af00\">0</span> (0.00 B)\n",
       "</pre>\n"
      ],
      "text/plain": [
       "\u001b[1m Total params: \u001b[0m\u001b[38;5;34m0\u001b[0m (0.00 B)\n"
      ]
     },
     "metadata": {},
     "output_type": "display_data"
    },
    {
     "data": {
      "text/html": [
       "<pre style=\"white-space:pre;overflow-x:auto;line-height:normal;font-family:Menlo,'DejaVu Sans Mono',consolas,'Courier New',monospace\"><span style=\"font-weight: bold\"> Trainable params: </span><span style=\"color: #00af00; text-decoration-color: #00af00\">0</span> (0.00 B)\n",
       "</pre>\n"
      ],
      "text/plain": [
       "\u001b[1m Trainable params: \u001b[0m\u001b[38;5;34m0\u001b[0m (0.00 B)\n"
      ]
     },
     "metadata": {},
     "output_type": "display_data"
    },
    {
     "data": {
      "text/html": [
       "<pre style=\"white-space:pre;overflow-x:auto;line-height:normal;font-family:Menlo,'DejaVu Sans Mono',consolas,'Courier New',monospace\"><span style=\"font-weight: bold\"> Non-trainable params: </span><span style=\"color: #00af00; text-decoration-color: #00af00\">0</span> (0.00 B)\n",
       "</pre>\n"
      ],
      "text/plain": [
       "\u001b[1m Non-trainable params: \u001b[0m\u001b[38;5;34m0\u001b[0m (0.00 B)\n"
      ]
     },
     "metadata": {},
     "output_type": "display_data"
    }
   ],
   "source": [
    "from keras.models import Sequential\n",
    "from keras.layers import Embedding, LSTM, Dense, Bidirectional, Dropout, BatchNormalization\n",
    "from keras.optimizers import Adam\n",
    "from keras.callbacks import ReduceLROnPlateau\n",
    "\n",
    "# Define the model\n",
    "model = Sequential()\n",
    "\n",
    "# Embedding layer\n",
    "model.add(Embedding(input_dim=10000, output_dim=128))\n",
    "\n",
    "# Bidirectional LSTM layers\n",
    "model.add(Bidirectional(\n",
    "    LSTM(64, dropout=0.2, recurrent_dropout=0.2, return_sequences=True)))\n",
    "model.add(Bidirectional(LSTM(64, dropout=0.2, recurrent_dropout=0.2)))\n",
    "\n",
    "# Dropout for regularization\n",
    "model.add(Dropout(0.5))\n",
    "\n",
    "# BatchNormalization for stabilizing training\n",
    "model.add(BatchNormalization())\n",
    "\n",
    "# Dense layer with softmax activation for classification\n",
    "model.add(Dense(4, activation='softmax'))\n",
    "\n",
    "# Compile the model\n",
    "model.compile(optimizer=\"adam\", loss='categorical_crossentropy',\n",
    "              metrics=['accuracy'])\n",
    "\n",
    "# Learning rate scheduling\n",
    "reduce_lr = ReduceLROnPlateau(\n",
    "    monitor='val_loss', factor=0.2, patience=2, min_lr=1e-6)\n",
    "\n",
    "model.summary()\n",
    "\n"
   ]
  },
  {
   "cell_type": "code",
   "execution_count": null,
   "id": "a6013b61",
   "metadata": {
    "execution": {
     "iopub.execute_input": "2024-05-16T16:44:29.597189Z",
     "iopub.status.busy": "2024-05-16T16:44:29.596664Z",
     "iopub.status.idle": "2024-05-16T18:29:34.435804Z",
     "shell.execute_reply": "2024-05-16T18:29:34.434382Z"
    },
    "papermill": {
     "duration": 6304.855289,
     "end_time": "2024-05-16T18:29:34.439373",
     "exception": false,
     "start_time": "2024-05-16T16:44:29.584084",
     "status": "completed"
    },
    "tags": []
   },
   "outputs": [
    {
     "name": "stdout",
     "output_type": "stream",
     "text": [
      "Epoch 1/20\n",
      "\u001b[1m579/579\u001b[0m \u001b[32m━━━━━━━━━━━━━━━━━━━━\u001b[0m\u001b[37m\u001b[0m \u001b[1m284s\u001b[0m 474ms/step - accuracy: 0.5192 - loss: 1.1086 - val_accuracy: 0.8428 - val_loss: 0.4742 - learning_rate: 0.0010\n",
      "Epoch 2/20\n",
      "\u001b[1m579/579\u001b[0m \u001b[32m━━━━━━━━━━━━━━━━━━━━\u001b[0m\u001b[37m\u001b[0m \u001b[1m272s\u001b[0m 469ms/step - accuracy: 0.7837 - loss: 0.5819 - val_accuracy: 0.9029 - val_loss: 0.2716 - learning_rate: 0.0010\n",
      "Epoch 3/20\n",
      "\u001b[1m579/579\u001b[0m \u001b[32m━━━━━━━━━━━━━━━━━━━━\u001b[0m\u001b[37m\u001b[0m \u001b[1m324s\u001b[0m 473ms/step - accuracy: 0.8408 - loss: 0.4285 - val_accuracy: 0.9269 - val_loss: 0.2036 - learning_rate: 0.0010\n",
      "Epoch 4/20\n",
      "\u001b[1m579/579\u001b[0m \u001b[32m━━━━━━━━━━━━━━━━━━━━\u001b[0m\u001b[37m\u001b[0m \u001b[1m322s\u001b[0m 473ms/step - accuracy: 0.8676 - loss: 0.3571 - val_accuracy: 0.9469 - val_loss: 0.1634 - learning_rate: 0.0010\n",
      "Epoch 5/20\n",
      "\u001b[1m579/579\u001b[0m \u001b[32m━━━━━━━━━━━━━━━━━━━━\u001b[0m\u001b[37m\u001b[0m \u001b[1m321s\u001b[0m 471ms/step - accuracy: 0.8883 - loss: 0.3020 - val_accuracy: 0.9540 - val_loss: 0.1615 - learning_rate: 0.0010\n",
      "Epoch 6/20\n",
      "\u001b[1m579/579\u001b[0m \u001b[32m━━━━━━━━━━━━━━━━━━━━\u001b[0m\u001b[37m\u001b[0m \u001b[1m322s\u001b[0m 471ms/step - accuracy: 0.8959 - loss: 0.2784 - val_accuracy: 0.9580 - val_loss: 0.1400 - learning_rate: 0.0010\n",
      "Epoch 7/20\n",
      "\u001b[1m579/579\u001b[0m \u001b[32m━━━━━━━━━━━━━━━━━━━━\u001b[0m\u001b[37m\u001b[0m \u001b[1m322s\u001b[0m 471ms/step - accuracy: 0.9068 - loss: 0.2480 - val_accuracy: 0.9530 - val_loss: 0.1555 - learning_rate: 0.0010\n",
      "Epoch 8/20\n",
      "\u001b[1m579/579\u001b[0m \u001b[32m━━━━━━━━━━━━━━━━━━━━\u001b[0m\u001b[37m\u001b[0m \u001b[1m321s\u001b[0m 470ms/step - accuracy: 0.9111 - loss: 0.2387 - val_accuracy: 0.9520 - val_loss: 0.1530 - learning_rate: 0.0010\n",
      "Epoch 9/20\n",
      "\u001b[1m579/579\u001b[0m \u001b[32m━━━━━━━━━━━━━━━━━━━━\u001b[0m\u001b[37m\u001b[0m \u001b[1m322s\u001b[0m 470ms/step - accuracy: 0.9273 - loss: 0.1941 - val_accuracy: 0.9600 - val_loss: 0.1367 - learning_rate: 2.0000e-04\n",
      "Epoch 10/20\n",
      "\u001b[1m579/579\u001b[0m \u001b[32m━━━━━━━━━━━━━━━━━━━━\u001b[0m\u001b[37m\u001b[0m \u001b[1m323s\u001b[0m 472ms/step - accuracy: 0.9335 - loss: 0.1740 - val_accuracy: 0.9630 - val_loss: 0.1346 - learning_rate: 2.0000e-04\n",
      "Epoch 11/20\n",
      "\u001b[1m579/579\u001b[0m \u001b[32m━━━━━━━━━━━━━━━━━━━━\u001b[0m\u001b[37m\u001b[0m \u001b[1m323s\u001b[0m 473ms/step - accuracy: 0.9367 - loss: 0.1650 - val_accuracy: 0.9630 - val_loss: 0.1438 - learning_rate: 2.0000e-04\n",
      "Epoch 12/20\n",
      "\u001b[1m579/579\u001b[0m \u001b[32m━━━━━━━━━━━━━━━━━━━━\u001b[0m\u001b[37m\u001b[0m \u001b[1m322s\u001b[0m 474ms/step - accuracy: 0.9398 - loss: 0.1586 - val_accuracy: 0.9630 - val_loss: 0.1443 - learning_rate: 2.0000e-04\n",
      "Epoch 13/20\n",
      "\u001b[1m579/579\u001b[0m \u001b[32m━━━━━━━━━━━━━━━━━━━━\u001b[0m\u001b[37m\u001b[0m \u001b[1m321s\u001b[0m 473ms/step - accuracy: 0.9443 - loss: 0.1474 - val_accuracy: 0.9630 - val_loss: 0.1487 - learning_rate: 4.0000e-05\n",
      "Epoch 14/20\n",
      "\u001b[1m579/579\u001b[0m \u001b[32m━━━━━━━━━━━━━━━━━━━━\u001b[0m\u001b[37m\u001b[0m \u001b[1m274s\u001b[0m 473ms/step - accuracy: 0.9430 - loss: 0.1483 - val_accuracy: 0.9620 - val_loss: 0.1504 - learning_rate: 4.0000e-05\n",
      "Epoch 15/20\n",
      "\u001b[1m579/579\u001b[0m \u001b[32m━━━━━━━━━━━━━━━━━━━━\u001b[0m\u001b[37m\u001b[0m \u001b[1m322s\u001b[0m 473ms/step - accuracy: 0.9450 - loss: 0.1432 - val_accuracy: 0.9620 - val_loss: 0.1490 - learning_rate: 8.0000e-06\n",
      "Epoch 16/20\n",
      "\u001b[1m579/579\u001b[0m \u001b[32m━━━━━━━━━━━━━━━━━━━━\u001b[0m\u001b[37m\u001b[0m \u001b[1m275s\u001b[0m 476ms/step - accuracy: 0.9435 - loss: 0.1457 - val_accuracy: 0.9630 - val_loss: 0.1494 - learning_rate: 8.0000e-06\n",
      "Epoch 17/20\n",
      "\u001b[1m579/579\u001b[0m \u001b[32m━━━━━━━━━━━━━━━━━━━━\u001b[0m\u001b[37m\u001b[0m \u001b[1m323s\u001b[0m 477ms/step - accuracy: 0.9433 - loss: 0.1458 - val_accuracy: 0.9630 - val_loss: 0.1501 - learning_rate: 1.6000e-06\n",
      "Epoch 18/20\n",
      "\u001b[1m579/579\u001b[0m \u001b[32m━━━━━━━━━━━━━━━━━━━━\u001b[0m\u001b[37m\u001b[0m \u001b[1m322s\u001b[0m 477ms/step - accuracy: 0.9442 - loss: 0.1454 - val_accuracy: 0.9630 - val_loss: 0.1493 - learning_rate: 1.6000e-06\n",
      "Epoch 19/20\n",
      "\u001b[1m579/579\u001b[0m \u001b[32m━━━━━━━━━━━━━━━━━━━━\u001b[0m\u001b[37m\u001b[0m \u001b[1m324s\u001b[0m 480ms/step - accuracy: 0.9439 - loss: 0.1466 - val_accuracy: 0.9640 - val_loss: 0.1494 - learning_rate: 1.0000e-06\n",
      "Epoch 20/20\n",
      "\u001b[1m579/579\u001b[0m \u001b[32m━━━━━━━━━━━━━━━━━━━━\u001b[0m\u001b[37m\u001b[0m \u001b[1m322s\u001b[0m 480ms/step - accuracy: 0.9431 - loss: 0.1475 - val_accuracy: 0.9630 - val_loss: 0.1500 - learning_rate: 1.0000e-06\n"
     ]
    }
   ],
   "source": [
    "history = model.fit(X, y, epochs=20, batch_size=128,\n",
    "                    validation_data=(X_val, y_val), callbacks=[reduce_lr])"
   ]
  },
  {
   "cell_type": "code",
   "execution_count": null,
   "id": "4e0df635",
   "metadata": {
    "execution": {
     "iopub.execute_input": "2024-05-16T18:29:36.846844Z",
     "iopub.status.busy": "2024-05-16T18:29:36.846374Z",
     "iopub.status.idle": "2024-05-16T18:29:37.515001Z",
     "shell.execute_reply": "2024-05-16T18:29:37.513658Z"
    },
    "papermill": {
     "duration": 1.921734,
     "end_time": "2024-05-16T18:29:37.517956",
     "exception": false,
     "start_time": "2024-05-16T18:29:35.596222",
     "status": "completed"
    },
    "tags": []
   },
   "outputs": [
    {
     "data": {
      "image/png": "[encoded data removed]",
      "text/plain": [
       "<Figure size 640x480 with 1 Axes>"
      ]
     },
     "metadata": {},
     "output_type": "display_data"
    },
    {
     "data": {
      "image/png": "[encoded data removed]",
      "text/plain": [
       "<Figure size 640x480 with 1 Axes>"
      ]
     },
     "metadata": {},
     "output_type": "display_data"
    }
   ],
   "source": [
    "import matplotlib.pyplot as plt\n",
    "\n",
    "# Plot training & validation accuracy values\n",
    "plt.plot(history.history['accuracy'])\n",
    "plt.plot(history.history['val_accuracy'])\n",
    "plt.title('Model accuracy')\n",
    "plt.xlabel('Epoch')\n",
    "plt.ylabel('Accuracy')\n",
    "plt.legend(['Train', 'Test'], loc='upper left')\n",
    "plt.show()\n",
    "\n",
    "# Plot training & validation loss values\n",
    "plt.plot(history.history['loss'])\n",
    "plt.plot(history.history['val_loss'])\n",
    "plt.title('Model loss')\n",
    "plt.xlabel('Epoch')\n",
    "plt.ylabel('Loss')\n",
    "plt.legend(['Train', 'Test'], loc='upper left')\n",
    "plt.show()"
   ]
  },
  {
   "cell_type": "code",
   "execution_count": null,
   "id": "69f73660",
   "metadata": {
    "execution": {
     "iopub.execute_input": "2024-05-16T18:29:39.809280Z",
     "iopub.status.busy": "2024-05-16T18:29:39.808298Z",
     "iopub.status.idle": "2024-05-16T18:29:39.813279Z",
     "shell.execute_reply": "2024-05-16T18:29:39.812054Z"
    },
    "papermill": {
     "duration": 1.136354,
     "end_time": "2024-05-16T18:29:39.815532",
     "exception": false,
     "start_time": "2024-05-16T18:29:38.679178",
     "status": "completed"
    },
    "tags": []
   },
   "outputs": [],
   "source": [
    "# model.save(\"sentiment_analysis_model.h5\")"
   ]
  },
  {
   "cell_type": "code",
   "execution_count": null,
   "id": "2170ae71",
   "metadata": {
    "execution": {
     "iopub.execute_input": "2024-05-16T18:29:42.275810Z",
     "iopub.status.busy": "2024-05-16T18:29:42.274931Z",
     "iopub.status.idle": "2024-05-16T18:29:44.367887Z",
     "shell.execute_reply": "2024-05-16T18:29:44.366392Z"
    },
    "papermill": {
     "duration": 3.236503,
     "end_time": "2024-05-16T18:29:44.371393",
     "exception": false,
     "start_time": "2024-05-16T18:29:41.134890",
     "status": "completed"
    },
    "tags": []
   },
   "outputs": [
    {
     "name": "stdout",
     "output_type": "stream",
     "text": [
      "---------------------------------\n",
      "3\n",
      "3\n",
      "---------------------------------\n",
      "3\n",
      "3\n",
      "---------------------------------\n",
      "3\n",
      "3\n",
      "---------------------------------\n",
      "3\n",
      "3\n",
      "---------------------------------\n",
      "3\n",
      "3\n",
      "---------------------------------\n",
      "3\n",
      "3\n",
      "---------------------------------\n",
      "3\n",
      "3\n",
      "---------------------------------\n",
      "3\n",
      "3\n",
      "---------------------------------\n",
      "3\n",
      "3\n",
      "---------------------------------\n",
      "3\n",
      "3\n",
      "---------------------------------\n",
      "3\n",
      "3\n",
      "---------------------------------\n",
      "2\n",
      "2\n"
     ]
    }
   ],
   "source": [
    "import numpy as np\n",
    "for i in range(12):\n",
    "    input_sequence = X[i].reshape(1, -1)\n",
    "    print(\"---------------------------------\")\n",
    "    print(np.argmax(y[i]))\n",
    "    print(np.argmax(model.predict(input_sequence, verbose=0)))"
   ]
  }
 ],
 "metadata": {
  "kaggle": {
   "accelerator": "none",
   "dataSources": [
    {
     "datasetId": 1520310,
     "sourceId": 2510329,
     "sourceType": "datasetVersion"
    }
   ],
   "dockerImageVersionId": 30699,
   "isGpuEnabled": false,
   "isInternetEnabled": true,
   "language": "python",
   "sourceType": "notebook"
  },
  "kernelspec": {
   "display_name": "Python 3",
   "language": "python",
   "name": "python3"
  },
  "language_info": {
   "codemirror_mode": {
    "name": "ipython",
    "version": 3
   },
   "file_extension": ".py",
   "mimetype": "text/x-python",
   "name": "python",
   "nbconvert_exporter": "python",
   "pygments_lexer": "ipython3",
   "version": "3.12.1"
  },
  "papermill": {
   "default_parameters": {},
   "duration": 6345.462259,
   "end_time": "2024-05-16T18:29:48.010072",
   "environment_variables": {},
   "exception": null,
   "input_path": "__notebook__.ipynb",
   "output_path": "__notebook__.ipynb",
   "parameters": {},
   "start_time": "2024-05-16T16:44:02.547813",
   "version": "2.5.0"
  }
 },
 "nbformat": 4,
 "nbformat_minor": 5
}
